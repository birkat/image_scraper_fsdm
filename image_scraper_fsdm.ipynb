{
 "cells": [
  {
   "cell_type": "code",
   "execution_count": 1,
   "id": "d5290aef-3c62-4907-96d5-f2b9f77d4c88",
   "metadata": {},
   "outputs": [],
   "source": [
    "import requests\n",
    "import logging\n",
    "import os\n",
    "from bs4 import BeautifulSoup\n",
    "from urllib.request import urlopen"
   ]
  },
  {
   "cell_type": "code",
   "execution_count": 2,
   "id": "5dc31bcc-c4cd-4abc-94f5-4b1f17c4b75c",
   "metadata": {},
   "outputs": [],
   "source": [
    "save_dir=\"images/\"\n",
    "if not os.path.exists(save_dir):\n",
    "    os.makedirs(save_dir)"
   ]
  },
  {
   "cell_type": "code",
   "execution_count": 27,
   "id": "72496f32-15d9-41a2-8255-bec1f4f44a75",
   "metadata": {},
   "outputs": [],
   "source": [
    "query = \"virat kholi\"\n",
    "#url = https://www.google.com/search?q={query}&tbm=isch&ved=2ahUKEwjZn-qq_YmBAxUEz6ACHbjtCEsQ2-cCegQIABAA&oq=elon+musk&gs_lcp=CgNpbWcQAzIECCMQJzIHCAAQigUQQzIHCAAQigUQQzIHCAAQigUQQzIHCAAQigUQQzIHCAAQigUQQzIHCAAQigUQQzIHCAAQigUQQzIHCAAQigUQQzIHCAAQigUQQzoFCAAQgARQsQxY0zBgwDdoAXAAeACAAekBiAGIE5IBBDItMTGYAQCgAQGqAQtnd3Mtd2l6LWltZ8ABAQ&sclient=img&ei=BCXyZNmNKYSeg8UPuNuj2AQ&bih=643&biw=1366"
   ]
  },
  {
   "cell_type": "code",
   "execution_count": 28,
   "id": "ac181fab-49f7-4ae5-84e6-088cb68f0d21",
   "metadata": {},
   "outputs": [],
   "source": [
    "response = requests.get(f\"https://www.google.com/search?q={query}&tbm=isch&ved=2ahUKEwjZn-qq_YmBAxUEz6ACHbjtCEsQ2-cCegQIABAA&oq=elon+musk&gs_lcp=CgNpbWcQAzIECCMQJzIHCAAQigUQQzIHCAAQigUQQzIHCAAQigUQQzIHCAAQigUQQzIHCAAQigUQQzIHCAAQigUQQzIHCAAQigUQQzIHCAAQigUQQzIHCAAQigUQQzoFCAAQgARQsQxY0zBgwDdoAXAAeACAAekBiAGIE5IBBDItMTGYAQCgAQGqAQtnd3Mtd2l6LWltZ8ABAQ&sclient=img&ei=BCXyZNmNKYSeg8UPuNuj2AQ&bih=643&biw=1366\")"
   ]
  },
  {
   "cell_type": "code",
   "execution_count": 29,
   "id": "ae9a24bd-6b42-4e81-a70f-02b267ba1f3e",
   "metadata": {},
   "outputs": [
    {
     "data": {
      "text/plain": [
       "<Response [200]>"
      ]
     },
     "execution_count": 29,
     "metadata": {},
     "output_type": "execute_result"
    }
   ],
   "source": [
    "response"
   ]
  },
  {
   "cell_type": "code",
   "execution_count": 30,
   "id": "03eb8bba-5d0b-46ff-b28a-0c28d94fb61b",
   "metadata": {},
   "outputs": [],
   "source": [
    "soup = BeautifulSoup(response.content, \"html.parser\")"
   ]
  },
  {
   "cell_type": "code",
   "execution_count": 31,
   "id": "37f09bbf-4d40-4cb2-8796-dca8cce639c8",
   "metadata": {},
   "outputs": [
    {
     "data": {
      "text/plain": [
       "<!DOCTYPE html PUBLIC \"-//WAPFORUM//DTD XHTML Mobile 1.0//EN\" \"http://www.wapforum.org/DTD/xhtml-mobile10.dtd\">\n",
       "<html lang=\"ne\" xmlns=\"http://www.w3.org/1999/xhtml\"><head><meta content=\"application/xhtml+xml; charset=utf-8\" http-equiv=\"Content-Type\"/><meta content=\"no-cache\" name=\"Cache-Control\"/><title>virat kholi - Google खोजी</title><style>a{text-decoration:none;color:inherit}a:hover{text-decoration:underline}a img{border:0}body{font-family:arial,sans-serif;padding:8px;margin:0 auto;max-width:700px;min-width:240px;}.FbhRzb{border-left:thin solid #dadce0;border-right:thin solid #dadce0;border-top:thin solid #dadce0;height:40px;overflow:hidden}.n692Zd{margin-bottom:10px}.cvifge{height:40px;border-spacing:0}.QvGUP{height:40px;padding:0 8px 0 8px;vertical-align:top}.O4cRJf{height:40px;width:100%;padding:0;padding-right:16px}.O1ePr{height:40px;padding:0;vertical-align:top}.kgJEQe{height:36px;width:98px;vertical-align:top;margin-top:4px}.lXLRf{vertical-align:top}.MhzMZd{border:0;vertical-align:middle;font-size:14px;height:40px;padding:0;width:100%;padding-left:16px}.xB0fq{height:40px;border:none;font-size:14px;background-color:#1a73e8;color:#fff;padding:0 16px;margin:0;vertical-align:top;cursor:pointer}.xB0fq:focus{border:1px solid #1a73e8}.M7pB2{border:thin solid #dadce0;margin:0 0 3px 0;font-size:13px;font-weight:500;height:40px}.euZec{width:100%;height:40px;text-align:center;border-spacing:0}table.euZec td{padding:0;width:25%}.QIqI7{display:inline-block;padding-top:4px;font-weight:bold;color:#4285f4}.EY24We{border-bottom:2px solid #4285f4}.CsQyDc{display:inline-block;color:#70757a}.TuS8Ad{font-size:14px}.HddGcc{padding:8px;color:#70757a}.dzp8ae{font-weight:bold;color:#3c4043}.rEM8G{color:#70757a}.bookcf{table-layout:fixed;width:100%;border-spacing:0}.InWNIe{text-align:center}.uZgmoc{border:thin solid #dadce0;color:#70757a;font-size:14px;text-align:center;table-layout:fixed;width:100%}.frGj1b{display:block;padding:12px 0 12px 0;width:100%}.BnJWBc{text-align:center;padding:6px 0 13px 0;height:35px}.e3goi{vertical-align:top;padding:0;height:180px}.GpQGbf{margin:auto;border-collapse:collapse;border-spacing:0;width:100%}</style></head><body><style>.X6ZCif{color:#202124;font-size:11px;line-height:16px;display:inline-block;padding-top:2px;overflow:hidden;padding-bottom:4px;width:100%}.TwVfHd{border-radius:16px;border:thin solid #dadce0;display:inline-block;padding:8px 8px;margin-right:8px;margin-bottom:4px}.yekiAe{background-color:#dadce0}.mnTahd{width:100%}.ezO2md{border:thin solid #dadce0;padding:12px 16px 12px 16px;margin-bottom:10px;font-family:arial,sans-serif}.lIMUZd{font-family:arial,sans-serif}.IkMU6e{border-spacing:0}.SjCsie{width:100%}.EnarA{text-align:center}.NZWO1b{width:162px;height:140px;line-height:140px;overflow:'hidden';text-align:center}.yWs4tf{text-align:center;margin:auto;vertical-align:middle;max-width:162px;max-height:140px}.jB2rPd{padding-top:2px;padding-bottom:8px;}.fYyStc{word-break:break-word}.ynsChf{display:block;white-space:nowrap;overflow:hidden;text-overflow:ellipsis}.Fj3V3b{color:#1967d2;font-size:14px;line-height:20px}.FrIlee{color:#202124;font-size:11px;line-height:16px}.F9iS2e{color:#70757a;font-size:11px;line-height:16px}.WMQ2Le{color:#70757a;font-size:12px;line-height:16px}.x3G5ab{color:#202124;font-size:12px;line-height:16px}.fuLhoc{color:#1967d2;font-size:16px;line-height:20px}.epoveb{font-size:24px;line-height:28px;font-weight:400;color:#202124}.dXDvrc{color:#0d652d;font-size:14px;line-height:20px;word-wrap:break-word}.dloBPe{font-weight:bold}.YVIcad{color:#70757a}.JkVVdd{color:#ea4335}.oXZRFd{color:#ea4335}.MQHtg{color:#fbbc04}.pyMRrb{color:#1e8e3e}.EtTZid{color:#1e8e3e}.M3vVJe{color:#1967d2}.qXLe6d{display:block}.NHQNef{font-style:italic}.Cb8Z7c{white-space:pre}a.ZWRArf{text-decoration:none}a .CVA68e:hover{text-decoration:underline}</style><div class=\"n692Zd\"><div class=\"BnJWBc\"><a class=\"lXLRf\" href=\"/?sca_esv=561979705&amp;bih=643&amp;biw=1366&amp;output=images&amp;ie=UTF-8&amp;tbm=isch&amp;sa=X&amp;ved=0ahUKEwiGqMDhg4qBAxVPMN4KHUP1APkQPAgC\"><img alt=\"Google\" class=\"kgJEQe\" src=\"/images/branding/searchlogo/1x/googlelogo_desk_heirloom_color_150x55dp.gif\"/></a></div><div class=\"FbhRzb\"><form action=\"/search\"><input name=\"sca_esv\" type=\"hidden\" value=\"561979705\"/><input name=\"bih\" type=\"hidden\" value=\"643\"/><input name=\"biw\" type=\"hidden\" value=\"1366\"/><input name=\"ie\" type=\"hidden\" value=\"ISO-8859-1\"/><input name=\"tbm\" type=\"hidden\" value=\"isch\"/><input name=\"oq\" type=\"hidden\"/><input name=\"aqs\" type=\"hidden\"/><table class=\"cvifge\"><tr><td class=\"O4cRJf\"><input class=\"MhzMZd\" name=\"q\" type=\"text\" value=\"virat kholi\"/></td><td class=\"O1ePr\"><input class=\"xB0fq\" type=\"submit\" value=\"खोज\"/></td></tr></table></form></div><div class=\"M7pB2\"><table class=\"euZec\"><tbody><tr><td><a class=\"CsQyDc\" href=\"/search?q=virat+kholi&amp;sca_esv=561979705&amp;bih=643&amp;biw=1366&amp;ie=UTF-8&amp;source=lnms&amp;sa=X&amp;ved=0ahUKEwiGqMDhg4qBAxVPMN4KHUP1APkQ_AUIBCgA\">सबै</a></td><td class=\"EY24We\"><span class=\"QIqI7\">फोटो</span></td><td><a class=\"CsQyDc\" href=\"/search?q=virat+kholi&amp;sca_esv=561979705&amp;bih=643&amp;biw=1366&amp;ie=UTF-8&amp;tbm=vid&amp;source=lnms&amp;sa=X&amp;ved=0ahUKEwiGqMDhg4qBAxVPMN4KHUP1APkQ_AUIBigC\">भिडियो</a></td></tr></tbody></table></div></div><div class=\"X6ZCif\"><a class=\"TwVfHd\" href=\"/search?sca_esv=561979705&amp;bih=643&amp;biw=1366&amp;ie=UTF-8&amp;tbm=isch&amp;q=virat+kholi&amp;chips=q:virat+kholi,online_chips:ipl&amp;sa=X&amp;ved=0ahUKEwiGqMDhg4qBAxVPMN4KHUP1APkQ4lYICigA\">ipl</a><a class=\"TwVfHd\" href=\"/search?sca_esv=561979705&amp;bih=643&amp;biw=1366&amp;ie=UTF-8&amp;tbm=isch&amp;q=virat+kholi&amp;chips=q:virat+kholi,online_chips:rcb&amp;sa=X&amp;ved=0ahUKEwiGqMDhg4qBAxVPMN4KHUP1APkQ4lYICygB\">rcb</a><a class=\"TwVfHd\" href=\"/search?sca_esv=561979705&amp;bih=643&amp;biw=1366&amp;ie=UTF-8&amp;tbm=isch&amp;q=virat+kholi&amp;chips=q:virat+kholi,online_chips:test&amp;sa=X&amp;ved=0ahUKEwiGqMDhg4qBAxVPMN4KHUP1APkQ4lYIDCgC\">test</a><a class=\"TwVfHd\" href=\"/search?sca_esv=561979705&amp;bih=643&amp;biw=1366&amp;ie=UTF-8&amp;tbm=isch&amp;q=virat+kholi&amp;chips=q:virat+kholi,online_chips:century&amp;sa=X&amp;ved=0ahUKEwiGqMDhg4qBAxVPMN4KHUP1APkQ4lYIDSgD\">century</a><a class=\"TwVfHd\" href=\"/search?sca_esv=561979705&amp;bih=643&amp;biw=1366&amp;ie=UTF-8&amp;tbm=isch&amp;q=virat+kholi&amp;chips=q:virat+kholi,online_chips:odi&amp;sa=X&amp;ved=0ahUKEwiGqMDhg4qBAxVPMN4KHUP1APkQ4lYIDigE\">odi</a><a class=\"TwVfHd\" href=\"/search?sca_esv=561979705&amp;bih=643&amp;biw=1366&amp;ie=UTF-8&amp;tbm=isch&amp;q=virat+kholi&amp;chips=q:virat+kholi,online_chips:odi+century&amp;sa=X&amp;ved=0ahUKEwiGqMDhg4qBAxVPMN4KHUP1APkQ4lYIDygF\">odi century</a><a class=\"TwVfHd\" href=\"/search?sca_esv=561979705&amp;bih=643&amp;biw=1366&amp;ie=UTF-8&amp;tbm=isch&amp;q=virat+kholi&amp;chips=q:virat+kholi,online_chips:kohli+rcb&amp;sa=X&amp;ved=0ahUKEwiGqMDhg4qBAxVPMN4KHUP1APkQ4lYIECgG\">kohli rcb</a><a class=\"TwVfHd\" href=\"/search?sca_esv=561979705&amp;bih=643&amp;biw=1366&amp;ie=UTF-8&amp;tbm=isch&amp;q=virat+kholi&amp;chips=q:virat+kholi,online_chips:royal+challengers+bangalore&amp;sa=X&amp;ved=0ahUKEwiGqMDhg4qBAxVPMN4KHUP1APkQ4lYIESgH\">royal challengers bangalore</a><a class=\"TwVfHd\" href=\"/search?sca_esv=561979705&amp;bih=643&amp;biw=1366&amp;ie=UTF-8&amp;tbm=isch&amp;q=virat+kholi&amp;chips=q:virat+kholi,online_chips:kohli+profile&amp;sa=X&amp;ved=0ahUKEwiGqMDhg4qBAxVPMN4KHUP1APkQ4lYIEigI\">kohli profile</a><a class=\"TwVfHd\" href=\"/search?sca_esv=561979705&amp;bih=643&amp;biw=1366&amp;ie=UTF-8&amp;tbm=isch&amp;q=virat+kholi&amp;chips=q:virat+kholi,online_chips:icc&amp;sa=X&amp;ved=0ahUKEwiGqMDhg4qBAxVPMN4KHUP1APkQ4lYIEygJ\">icc</a></div><div><table class=\"GpQGbf\"><tr><td align=\"center\" class=\"e3goi\"><div class=\"mnTahd\"> <div> <div class=\"lIMUZd\"><div><table class=\"IkMU6e\"><tr><td><a href=\"/url?q=https://en.wikipedia.org/wiki/Virat_Kohli&amp;sa=U&amp;ved=2ahUKEwiGqMDhg4qBAxVPMN4KHUP1APkQqoUBegQIABAB&amp;usg=AOvVaw0-YVS3IeCAOA1kSHTpwZ3d\"><div class=\"NZWO1b\"><img alt=\"\" class=\"yWs4tf\" src=\"https://encrypted-tbn0.gstatic.com/images?q=tbn:ANd9GcSApOD8cC7Jh33c0VqbcFkcmx0og9wr1DYsD50a8Tp3p-0I33M_SuuLXA0Kizk&amp;s\"/></div></a></td></tr><tr><td><a href=\"/url?q=https://en.wikipedia.org/wiki/Virat_Kohli&amp;sa=U&amp;ved=2ahUKEwiGqMDhg4qBAxVPMN4KHUP1APkQr4kDegQIABAC&amp;usg=AOvVaw1gYrZkFVsrHKRkr8jVNaMj\"><div class=\"jB2rPd\"> <span class=\"qXLe6d x3G5ab\"> <span class=\"fYyStc\">Virat Kohli - Wikipedia</span> </span> <span class=\"qXLe6d F9iS2e\"> <span class=\"fYyStc\">en.wikipedia.org</span> </span> </div></a></td></tr></table></div></div> </div> </div></td><td align=\"center\" class=\"e3goi\"><div class=\"mnTahd\"> <div> <div class=\"lIMUZd\"><div><table class=\"IkMU6e\"><tr><td><a href=\"/url?q=https://www.espncricinfo.com/cricketers/virat-kohli-253802&amp;sa=U&amp;ved=2ahUKEwiGqMDhg4qBAxVPMN4KHUP1APkQqoUBegQIExAB&amp;usg=AOvVaw1-z4P2fXuiBzIhrjfcYPHp\"><div class=\"NZWO1b\"><img alt=\"\" class=\"yWs4tf\" src=\"https://encrypted-tbn0.gstatic.com/images?q=tbn:ANd9GcSK5yCaJ2Z89H3mjG2pVjY9N4R5oiPNQPgSk0yYX4Wiv3mMSccD2ttNoKKUgg&amp;s\"/></div></a></td></tr><tr><td><a href=\"/url?q=https://www.espncricinfo.com/cricketers/virat-kohli-253802&amp;sa=U&amp;ved=2ahUKEwiGqMDhg4qBAxVPMN4KHUP1APkQr4kDegQIExAC&amp;usg=AOvVaw3PT2kfKijQEX1yFp2AIN_E\"><div class=\"jB2rPd\"> <span class=\"qXLe6d x3G5ab\"> <span class=\"fYyStc\">Virat Kohli Profile -...</span> </span> <span class=\"qXLe6d F9iS2e\"> <span class=\"fYyStc\">www.espncricinfo.com</span> </span> </div></a></td></tr></table></div></div> </div> </div></td><td align=\"center\" class=\"e3goi\"><div class=\"mnTahd\"> <div> <div class=\"lIMUZd\"><div><table class=\"IkMU6e\"><tr><td><a href=\"/url?q=https://www.tribuneindia.com/cricket/odi-format-tests-you-completely-as-a-batter-virat-kohli-64eee2de088c779f64757cba&amp;sa=U&amp;ved=2ahUKEwiGqMDhg4qBAxVPMN4KHUP1APkQqoUBegQIEhAB&amp;usg=AOvVaw3xWd1xCv5Z5avrBMusQV0b\"><div class=\"NZWO1b\"><img alt=\"\" class=\"yWs4tf\" src=\"https://encrypted-tbn0.gstatic.com/images?q=tbn:ANd9GcQBsTQsS4-NFKPJ68KkKBSNLp8o7A1tJCyeiXABkPah3FfPg6osNi7aj_0jKw&amp;s\"/></div></a></td></tr><tr><td><a href=\"/url?q=https://www.tribuneindia.com/cricket/odi-format-tests-you-completely-as-a-batter-virat-kohli-64eee2de088c779f64757cba&amp;sa=U&amp;ved=2ahUKEwiGqMDhg4qBAxVPMN4KHUP1APkQr4kDegQIEhAC&amp;usg=AOvVaw1YiWQjlAt7TkMeHCUnLtJU\"><div class=\"jB2rPd\"> <span class=\"qXLe6d x3G5ab\"> <span class=\"fYyStc\">ODI format tests you...</span> </span> <span class=\"qXLe6d F9iS2e\"> <span class=\"fYyStc\">www.tribuneindia.com</span> </span> </div></a></td></tr></table></div></div> </div> </div></td><td align=\"center\" class=\"e3goi\"><div class=\"mnTahd\"> <div> <div class=\"lIMUZd\"><div><table class=\"IkMU6e\"><tr><td><a href=\"/url?q=https://www.iplt20.com/teams/royal-challengers-bangalore/squad-details/164&amp;sa=U&amp;ved=2ahUKEwiGqMDhg4qBAxVPMN4KHUP1APkQqoUBegQICxAB&amp;usg=AOvVaw3zK3w0DfzhnEhSwMHX4c2T\"><div class=\"NZWO1b\"><img alt=\"\" class=\"yWs4tf\" src=\"https://encrypted-tbn0.gstatic.com/images?q=tbn:ANd9GcQjN3o1k7S3Qtlo6YyMkXLv6D4wZ-_tWt2keLcq-w8IlpSsMHVZCa3elriucYE&amp;s\"/></div></a></td></tr><tr><td><a href=\"/url?q=https://www.iplt20.com/teams/royal-challengers-bangalore/squad-details/164&amp;sa=U&amp;ved=2ahUKEwiGqMDhg4qBAxVPMN4KHUP1APkQr4kDegQICxAC&amp;usg=AOvVaw3-lRM4auf5g9_PZBBHSfP1\"><div class=\"jB2rPd\"> <span class=\"qXLe6d x3G5ab\"> <span class=\"fYyStc\">Mens Team | IPLT20</span> </span> <span class=\"qXLe6d F9iS2e\"> <span class=\"fYyStc\">www.iplt20.com</span> </span> </div></a></td></tr></table></div></div> </div> </div></td></tr><tr><td align=\"center\" class=\"e3goi\"><div class=\"mnTahd\"> <div> <div class=\"lIMUZd\"><div><table class=\"IkMU6e\"><tr><td><a href=\"/url?q=https://www.cricbuzz.com/profiles/1413/virat-kohli&amp;sa=U&amp;ved=2ahUKEwiGqMDhg4qBAxVPMN4KHUP1APkQqoUBegQIDxAB&amp;usg=AOvVaw0hwGOsKFGM15pMuDJYtuyk\"><div class=\"NZWO1b\"><img alt=\"\" class=\"yWs4tf\" src=\"https://encrypted-tbn0.gstatic.com/images?q=tbn:ANd9GcRex6xKHaq0ZelmDv9UfgKkFGxqAX5v3u0Jw2ygIvOGDtQ5-9n8PFz9hVPyIFw&amp;s\"/></div></a></td></tr><tr><td><a href=\"/url?q=https://www.cricbuzz.com/profiles/1413/virat-kohli&amp;sa=U&amp;ved=2ahUKEwiGqMDhg4qBAxVPMN4KHUP1APkQr4kDegQIDxAC&amp;usg=AOvVaw0nIwKbPGsesgy-gSMtdj7Z\"><div class=\"jB2rPd\"> <span class=\"qXLe6d x3G5ab\"> <span class=\"fYyStc\">Virat Kohli Profile - ICC...</span> </span> <span class=\"qXLe6d F9iS2e\"> <span class=\"fYyStc\">www.cricbuzz.com</span> </span> </div></a></td></tr></table></div></div> </div> </div></td><td align=\"center\" class=\"e3goi\"><div class=\"mnTahd\"> <div> <div class=\"lIMUZd\"><div><table class=\"IkMU6e\"><tr><td><a href=\"/url?q=https://www.mykhel.com/cricket/players/virat-kohli-ipl-p3788/&amp;sa=U&amp;ved=2ahUKEwiGqMDhg4qBAxVPMN4KHUP1APkQqoUBegQIERAB&amp;usg=AOvVaw2l3zxBGQnVhMjFZsv1FRxC\"><div class=\"NZWO1b\"><img alt=\"\" class=\"yWs4tf\" src=\"https://encrypted-tbn0.gstatic.com/images?q=tbn:ANd9GcRNYxI7NzkxReEfzTANecdflgCygz-vaygIJgdlCAr2LjdYWljenNcYEEmPNQ&amp;s\"/></div></a></td></tr><tr><td><a href=\"/url?q=https://www.mykhel.com/cricket/players/virat-kohli-ipl-p3788/&amp;sa=U&amp;ved=2ahUKEwiGqMDhg4qBAxVPMN4KHUP1APkQr4kDegQIERAC&amp;usg=AOvVaw2ZbYHlSNWW-9lmE59YVoAs\"><div class=\"jB2rPd\"> <span class=\"qXLe6d x3G5ab\"> <span class=\"fYyStc\">Virat Kohli IPL Career:...</span> </span> <span class=\"qXLe6d F9iS2e\"> <span class=\"fYyStc\">www.mykhel.com</span> </span> </div></a></td></tr></table></div></div> </div> </div></td><td align=\"center\" class=\"e3goi\"><div class=\"mnTahd\"> <div> <div class=\"lIMUZd\"><div><table class=\"IkMU6e\"><tr><td><a href=\"/url?q=https://cricketaddictor.com/cricket-news/icc-world-cup-2023-virat-kohli-to-play-icc-t20-world-cup-2024-former-indian-coach-delivers-massive-update/&amp;sa=U&amp;ved=2ahUKEwiGqMDhg4qBAxVPMN4KHUP1APkQqoUBegQIEBAB&amp;usg=AOvVaw1PC7B5bBw2Zo0cpaVFJQp4\"><div class=\"NZWO1b\"><img alt=\"\" class=\"yWs4tf\" src=\"https://encrypted-tbn0.gstatic.com/images?q=tbn:ANd9GcRaMPiybVYLUOdjyoaiHLwFmuSokkPjC6Tnv1XfvIR_f5zsCWL1eecIjRHx_CQ&amp;s\"/></div></a></td></tr><tr><td><a href=\"/url?q=https://cricketaddictor.com/cricket-news/icc-world-cup-2023-virat-kohli-to-play-icc-t20-world-cup-2024-former-indian-coach-delivers-massive-update/&amp;sa=U&amp;ved=2ahUKEwiGqMDhg4qBAxVPMN4KHUP1APkQr4kDegQIEBAC&amp;usg=AOvVaw2inTSSv1FquP0jq94U4TzN\"><div class=\"jB2rPd\"> <span class=\"qXLe6d x3G5ab\"> <span class=\"fYyStc\">ICC World Cup 2023: Virat...</span> </span> <span class=\"qXLe6d F9iS2e\"> <span class=\"fYyStc\">cricketaddictor.com</span> </span> </div></a></td></tr></table></div></div> </div> </div></td><td align=\"center\" class=\"e3goi\"><div class=\"mnTahd\"> <div> <div class=\"lIMUZd\"><div><table class=\"IkMU6e\"><tr><td><a href=\"/url?q=https://www.hindustantimes.com/cricket/virat-kohli-uses-two-words-to-sum-up-15-years-in-international-cricket-with-ind-vs-pak-photo-post-viral-within-seconds-101692353398269.html&amp;sa=U&amp;ved=2ahUKEwiGqMDhg4qBAxVPMN4KHUP1APkQqoUBegQIDRAB&amp;usg=AOvVaw3SGkm8sEu7SMzGN_sjb2zl\"><div class=\"NZWO1b\"><img alt=\"\" class=\"yWs4tf\" src=\"https://encrypted-tbn0.gstatic.com/images?q=tbn:ANd9GcTiuZO7YWD1k_bWVXN6Ua7vOW3oaHtZZLPTurTqS5ORjtX_pNeYRv0obzlrSos&amp;s\"/></div></a></td></tr><tr><td><a href=\"/url?q=https://www.hindustantimes.com/cricket/virat-kohli-uses-two-words-to-sum-up-15-years-in-international-cricket-with-ind-vs-pak-photo-post-viral-within-seconds-101692353398269.html&amp;sa=U&amp;ved=2ahUKEwiGqMDhg4qBAxVPMN4KHUP1APkQr4kDegQIDRAC&amp;usg=AOvVaw0aerwwMVK7pAsbFgVgfhLL\"><div class=\"jB2rPd\"> <span class=\"qXLe6d x3G5ab\"> <span class=\"fYyStc\">Virat Kohli sums up 15...</span> </span> <span class=\"qXLe6d F9iS2e\"> <span class=\"fYyStc\">www.hindustantimes.com</span> </span> </div></a></td></tr></table></div></div> </div> </div></td></tr><tr><td align=\"center\" class=\"e3goi\"><div class=\"mnTahd\"> <div> <div class=\"lIMUZd\"><div><table class=\"IkMU6e\"><tr><td><a href=\"/url?q=https://www.icc-cricket.com/news/3599337&amp;sa=U&amp;ved=2ahUKEwiGqMDhg4qBAxVPMN4KHUP1APkQqoUBegQIDhAB&amp;usg=AOvVaw3GXg-Qd6kbeReQUF_qPlul\"><div class=\"NZWO1b\"><img alt=\"\" class=\"yWs4tf\" src=\"https://encrypted-tbn0.gstatic.com/images?q=tbn:ANd9GcRL4HysfWjLNVEAQR_fF0HgszRpe8ftZxxrjisPDXdk0YQPK5W7H-bK6KySiw&amp;s\"/></div></a></td></tr><tr><td><a href=\"/url?q=https://www.icc-cricket.com/news/3599337&amp;sa=U&amp;ved=2ahUKEwiGqMDhg4qBAxVPMN4KHUP1APkQr4kDegQIDhAC&amp;usg=AOvVaw15HVLWgx7jEPGXcu7Mntf5\"><div class=\"jB2rPd\"> <span class=\"qXLe6d x3G5ab\"> <span class=\"fYyStc\">Virat Kohli ends five-year...</span> </span> <span class=\"qXLe6d F9iS2e\"> <span class=\"fYyStc\">www.icc-cricket.com</span> </span> </div></a></td></tr></table></div></div> </div> </div></td><td align=\"center\" class=\"e3goi\"><div class=\"mnTahd\"> <div> <div class=\"lIMUZd\"><div><table class=\"IkMU6e\"><tr><td><a href=\"/url?q=https://www.espncricinfo.com/cricketers/virat-kohli-253802&amp;sa=U&amp;ved=2ahUKEwiGqMDhg4qBAxVPMN4KHUP1APkQqoUBegQICRAB&amp;usg=AOvVaw31BuAwmrj7GqWi5GxfahUD\"><div class=\"NZWO1b\"><img alt=\"\" class=\"yWs4tf\" src=\"https://encrypted-tbn0.gstatic.com/images?q=tbn:ANd9GcTjRYXqKpwxHkFa9Vz7wH-dkSRYDx0WPwGY5PpsmMSy5DETP_ts5F9K5Hf9qw&amp;s\"/></div></a></td></tr><tr><td><a href=\"/url?q=https://www.espncricinfo.com/cricketers/virat-kohli-253802&amp;sa=U&amp;ved=2ahUKEwiGqMDhg4qBAxVPMN4KHUP1APkQr4kDegQICRAC&amp;usg=AOvVaw3SERxmmP8mUZSbX26xtRkh\"><div class=\"jB2rPd\"> <span class=\"qXLe6d x3G5ab\"> <span class=\"fYyStc\">Virat Kohli Profile -...</span> </span> <span class=\"qXLe6d F9iS2e\"> <span class=\"fYyStc\">www.espncricinfo.com</span> </span> </div></a></td></tr></table></div></div> </div> </div></td><td align=\"center\" class=\"e3goi\"><div class=\"mnTahd\"> <div> <div class=\"lIMUZd\"><div><table class=\"IkMU6e\"><tr><td><a href=\"/url?q=https://www.icc-cricket.com/rankings/mens/player-rankings/164&amp;sa=U&amp;ved=2ahUKEwiGqMDhg4qBAxVPMN4KHUP1APkQqoUBegQIDBAB&amp;usg=AOvVaw21q_gyj5f1KFeJQmguxkBT\"><div class=\"NZWO1b\"><img alt=\"\" class=\"yWs4tf\" src=\"https://encrypted-tbn0.gstatic.com/images?q=tbn:ANd9GcSjO_7vM3PmFwwRgeJizk48XJukSQ8aTMf3P4gVSxksMiFLK8NJMZmp07Vl9vI&amp;s\"/></div></a></td></tr><tr><td><a href=\"/url?q=https://www.icc-cricket.com/rankings/mens/player-rankings/164&amp;sa=U&amp;ved=2ahUKEwiGqMDhg4qBAxVPMN4KHUP1APkQr4kDegQIDBAC&amp;usg=AOvVaw1_-CSqvR1hEkOigJiSvS1w\"><div class=\"jB2rPd\"> <span class=\"qXLe6d x3G5ab\"> <span class=\"fYyStc\">ICC Profile - Stats,...</span> </span> <span class=\"qXLe6d F9iS2e\"> <span class=\"fYyStc\">www.icc-cricket.com</span> </span> </div></a></td></tr></table></div></div> </div> </div></td><td align=\"center\" class=\"e3goi\"><div class=\"mnTahd\"> <div> <div class=\"lIMUZd\"><div><table class=\"IkMU6e\"><tr><td><a href=\"/url?q=https://nationaltoday.com/birthday/virat-kohli/&amp;sa=U&amp;ved=2ahUKEwiGqMDhg4qBAxVPMN4KHUP1APkQqoUBegQIChAB&amp;usg=AOvVaw1WNcZJ7vq35VqVqnbZZDQG\"><div class=\"NZWO1b\"><img alt=\"\" class=\"yWs4tf\" src=\"https://encrypted-tbn0.gstatic.com/images?q=tbn:ANd9GcRLqGxMbCeVkZIDV3mQfmlpSxuBcW4YTlZBp78_utfaZ7ACU-1GI0fyT3cQVA&amp;s\"/></div></a></td></tr><tr><td><a href=\"/url?q=https://nationaltoday.com/birthday/virat-kohli/&amp;sa=U&amp;ved=2ahUKEwiGqMDhg4qBAxVPMN4KHUP1APkQr4kDegQIChAC&amp;usg=AOvVaw2hXZWgLZ8gqqEM9iEkuU_r\"><div class=\"jB2rPd\"> <span class=\"qXLe6d x3G5ab\"> <span class=\"fYyStc\">Virat Kohli - Age, Bio,...</span> </span> <span class=\"qXLe6d F9iS2e\"> <span class=\"fYyStc\">nationaltoday.com</span> </span> </div></a></td></tr></table></div></div> </div> </div></td></tr><tr><td align=\"center\" class=\"e3goi\"><div class=\"mnTahd\"> <div> <div class=\"lIMUZd\"><div><table class=\"IkMU6e\"><tr><td><a href=\"/url?q=https://www.icccricketschedule.com/ind-vs-pak-virat-kohli-on-the-verge-of-achieving-13000-runs-and-2-other-huge-milestones-in-the-asia-cup/&amp;sa=U&amp;ved=2ahUKEwiGqMDhg4qBAxVPMN4KHUP1APkQqoUBegQIAxAB&amp;usg=AOvVaw0S9iVDw0Y5RNrE3xjMvvqZ\"><div class=\"NZWO1b\"><img alt=\"\" class=\"yWs4tf\" src=\"https://encrypted-tbn0.gstatic.com/images?q=tbn:ANd9GcTi0LrG7zHoi3YApTasWokDw0OmQaE7GS-ewE91U_XkPUWY7QhnvWfyv7Y3a54&amp;s\"/></div></a></td></tr><tr><td><a href=\"/url?q=https://www.icccricketschedule.com/ind-vs-pak-virat-kohli-on-the-verge-of-achieving-13000-runs-and-2-other-huge-milestones-in-the-asia-cup/&amp;sa=U&amp;ved=2ahUKEwiGqMDhg4qBAxVPMN4KHUP1APkQr4kDegQIAxAC&amp;usg=AOvVaw2TGm4j20YrlljXc4tVFOdS\"><div class=\"jB2rPd\"> <span class=\"qXLe6d x3G5ab\"> <span class=\"fYyStc\">IND Vs PAK: Virat Kohli On...</span> </span> <span class=\"qXLe6d F9iS2e\"> <span class=\"fYyStc\">www.icccricketschedule.com</span> </span> </div></a></td></tr></table></div></div> </div> </div></td><td align=\"center\" class=\"e3goi\"><div class=\"mnTahd\"> <div> <div class=\"lIMUZd\"><div><table class=\"IkMU6e\"><tr><td><a href=\"/url?q=https://www.espncricinfo.com/cricketers/virat-kohli-253802&amp;sa=U&amp;ved=2ahUKEwiGqMDhg4qBAxVPMN4KHUP1APkQqoUBegQIBxAB&amp;usg=AOvVaw2cHqMi4VIyr5TybYikNeBB\"><div class=\"NZWO1b\"><img alt=\"\" class=\"yWs4tf\" src=\"https://encrypted-tbn0.gstatic.com/images?q=tbn:ANd9GcSYb2hCfNGHcxzN5b9S3ssbiROUoNyLW_WYSLKPOiUjeTmd23VX1a3T3e7Vlfk&amp;s\"/></div></a></td></tr><tr><td><a href=\"/url?q=https://www.espncricinfo.com/cricketers/virat-kohli-253802&amp;sa=U&amp;ved=2ahUKEwiGqMDhg4qBAxVPMN4KHUP1APkQr4kDegQIBxAC&amp;usg=AOvVaw2E1YlFSJ67DA4KqrN2AikB\"><div class=\"jB2rPd\"> <span class=\"qXLe6d x3G5ab\"> <span class=\"fYyStc\">Virat Kohli Profile -...</span> </span> <span class=\"qXLe6d F9iS2e\"> <span class=\"fYyStc\">www.espncricinfo.com</span> </span> </div></a></td></tr></table></div></div> </div> </div></td><td align=\"center\" class=\"e3goi\"><div class=\"mnTahd\"> <div> <div class=\"lIMUZd\"><div><table class=\"IkMU6e\"><tr><td><a href=\"/url?q=https://www.livemint.com/sports/cricket-news/virat-kohli-smashes-century-in-odi-against-sri-lanka-close-to-breaking-tendulkar-s-record-11673350925843.html&amp;sa=U&amp;ved=2ahUKEwiGqMDhg4qBAxVPMN4KHUP1APkQqoUBegQIBhAB&amp;usg=AOvVaw13ZosqwIEaiPmRVb8O8wE7\"><div class=\"NZWO1b\"><img alt=\"\" class=\"yWs4tf\" src=\"https://encrypted-tbn0.gstatic.com/images?q=tbn:ANd9GcSp3kQOyVVmAnA2QMEE6FqFu6ulP9AJGt_bdQVPzJ7xb8LLDv5yZKFvw0Y-30Y&amp;s\"/></div></a></td></tr><tr><td><a href=\"/url?q=https://www.livemint.com/sports/cricket-news/virat-kohli-smashes-century-in-odi-against-sri-lanka-close-to-breaking-tendulkar-s-record-11673350925843.html&amp;sa=U&amp;ved=2ahUKEwiGqMDhg4qBAxVPMN4KHUP1APkQr4kDegQIBhAC&amp;usg=AOvVaw3csvIFwVuiPGac_JiYwmHW\"><div class=\"jB2rPd\"> <span class=\"qXLe6d x3G5ab\"> <span class=\"fYyStc\">Virat Kohli smashes century...</span> </span> <span class=\"qXLe6d F9iS2e\"> <span class=\"fYyStc\">www.livemint.com</span> </span> </div></a></td></tr></table></div></div> </div> </div></td><td align=\"center\" class=\"e3goi\"><div class=\"mnTahd\"> <div> <div class=\"lIMUZd\"><div><table class=\"IkMU6e\"><tr><td><a href=\"/url?q=https://www.forbes.com/profile/virat-kohli/&amp;sa=U&amp;ved=2ahUKEwiGqMDhg4qBAxVPMN4KHUP1APkQqoUBegQIARAB&amp;usg=AOvVaw1nfqE7tE9HfKUDAIFqU4Rv\"><div class=\"NZWO1b\"><img alt=\"\" class=\"yWs4tf\" src=\"https://encrypted-tbn0.gstatic.com/images?q=tbn:ANd9GcQXhRozPeN_ofFzgMvQcHZvcplv3EpOrLtmrSnBG88kwoJo8RFn0Ev3aLykTYA&amp;s\"/></div></a></td></tr><tr><td><a href=\"/url?q=https://www.forbes.com/profile/virat-kohli/&amp;sa=U&amp;ved=2ahUKEwiGqMDhg4qBAxVPMN4KHUP1APkQr4kDegQIARAC&amp;usg=AOvVaw3uZZNVC_r-ijdZ_WIRc63J\"><div class=\"jB2rPd\"> <span class=\"qXLe6d x3G5ab\"> <span class=\"fYyStc\">0x0.jpg?format=jpg&amp;crop=233...</span> </span> <span class=\"qXLe6d F9iS2e\"> <span class=\"fYyStc\">www.forbes.com</span> </span> </div></a></td></tr></table></div></div> </div> </div></td></tr><tr><td align=\"center\" class=\"e3goi\"><div class=\"mnTahd\"> <div> <div class=\"lIMUZd\"><div><table class=\"IkMU6e\"><tr><td><a href=\"/url?q=https://indianexpress.com/article/sports/cricket/chase-thriller-written-and-directed-by-virat-kohli-8226806/&amp;sa=U&amp;ved=2ahUKEwiGqMDhg4qBAxVPMN4KHUP1APkQqoUBegQICBAB&amp;usg=AOvVaw0rDwodr85VzrH6goX8PHbn\"><div class=\"NZWO1b\"><img alt=\"\" class=\"yWs4tf\" src=\"https://encrypted-tbn0.gstatic.com/images?q=tbn:ANd9GcT1wPMwjom0BIO31H3orhKUkYsbT5oN4zOcNxb7iJU6UZEW74DL2MK14EkYsUc&amp;s\"/></div></a></td></tr><tr><td><a href=\"/url?q=https://indianexpress.com/article/sports/cricket/chase-thriller-written-and-directed-by-virat-kohli-8226806/&amp;sa=U&amp;ved=2ahUKEwiGqMDhg4qBAxVPMN4KHUP1APkQr4kDegQICBAC&amp;usg=AOvVaw1WxnB2dreb5V6yZohBySEe\"><div class=\"jB2rPd\"> <span class=\"qXLe6d x3G5ab\"> <span class=\"fYyStc\">Chase thriller written and...</span> </span> <span class=\"qXLe6d F9iS2e\"> <span class=\"fYyStc\">indianexpress.com</span> </span> </div></a></td></tr></table></div></div> </div> </div></td><td align=\"center\" class=\"e3goi\"><div class=\"mnTahd\"> <div> <div class=\"lIMUZd\"><div><table class=\"IkMU6e\"><tr><td><a href=\"/url?q=https://m.economictimes.com/magazines/panache/happy-birthday-virat-kohli-5-career-defining-moments-of-indias-run-machine/articleshow/95313568.cms&amp;sa=U&amp;ved=2ahUKEwiGqMDhg4qBAxVPMN4KHUP1APkQqoUBegQIBBAB&amp;usg=AOvVaw3gQpjEVZQ_RHFTANusr8rK\"><div class=\"NZWO1b\"><img alt=\"\" class=\"yWs4tf\" src=\"https://encrypted-tbn0.gstatic.com/images?q=tbn:ANd9GcRaX8v2cwUTqQAetSm_Jgmk4j7GkjFCKe3HuoL7nLgAwaq4mVUTAVWDUgDkGQ&amp;s\"/></div></a></td></tr><tr><td><a href=\"/url?q=https://m.economictimes.com/magazines/panache/happy-birthday-virat-kohli-5-career-defining-moments-of-indias-run-machine/articleshow/95313568.cms&amp;sa=U&amp;ved=2ahUKEwiGqMDhg4qBAxVPMN4KHUP1APkQr4kDegQIBBAC&amp;usg=AOvVaw1rGmlzrerzg0uMvdgVDUzt\"><div class=\"jB2rPd\"> <span class=\"qXLe6d x3G5ab\"> <span class=\"fYyStc\">Virat Kohli birthday: Happy...</span> </span> <span class=\"qXLe6d F9iS2e\"> <span class=\"fYyStc\">m.economictimes.com</span> </span> </div></a></td></tr></table></div></div> </div> </div></td><td align=\"center\" class=\"e3goi\"><div class=\"mnTahd\"> <div> <div class=\"lIMUZd\"><div><table class=\"IkMU6e\"><tr><td><a href=\"/url?q=https://www.icc-cricket.com/news/3534360&amp;sa=U&amp;ved=2ahUKEwiGqMDhg4qBAxVPMN4KHUP1APkQqoUBegQIBRAB&amp;usg=AOvVaw2sRntjrDrUtPYQ3yq_iz-G\"><div class=\"NZWO1b\"><img alt=\"\" class=\"yWs4tf\" src=\"https://encrypted-tbn0.gstatic.com/images?q=tbn:ANd9GcTk7RzfiqXC0DnZwTgmlOX9D0n5iK_Lm-Rj8rY7KsEeA8sbe1Wgh7C2twUSdg&amp;s\"/></div></a></td></tr><tr><td><a href=\"/url?q=https://www.icc-cricket.com/news/3534360&amp;sa=U&amp;ved=2ahUKEwiGqMDhg4qBAxVPMN4KHUP1APkQr4kDegQIBRAC&amp;usg=AOvVaw3VXhCn-oe8aXOq4tOmeFeL\"><div class=\"jB2rPd\"> <span class=\"qXLe6d x3G5ab\"> <span class=\"fYyStc\">Chase master Virat Kohli...</span> </span> <span class=\"qXLe6d F9iS2e\"> <span class=\"fYyStc\">www.icc-cricket.com</span> </span> </div></a></td></tr></table></div></div> </div> </div></td><td align=\"center\" class=\"e3goi\"><div class=\"mnTahd\"> <div> <div class=\"lIMUZd\"><div><table class=\"IkMU6e\"><tr><td><a href=\"/url?q=https://www.thenationalnews.com/sport/cricket/2023/06/21/celebrity-net-worth-virat-kohli-still-rules-the-cricket-world/&amp;sa=U&amp;ved=2ahUKEwiGqMDhg4qBAxVPMN4KHUP1APkQqoUBegQIAhAB&amp;usg=AOvVaw11bgqBC4fLgpL4zzpfh70o\"><div class=\"NZWO1b\"><img alt=\"\" class=\"yWs4tf\" src=\"https://encrypted-tbn0.gstatic.com/images?q=tbn:ANd9GcQvY5jyNK-dyeGdEi7uHWSkRYUz8KLThlk6vzdsm3aPiLp-wbDU9SPoOQ0ZUII&amp;s\"/></div></a></td></tr><tr><td><a href=\"/url?q=https://www.thenationalnews.com/sport/cricket/2023/06/21/celebrity-net-worth-virat-kohli-still-rules-the-cricket-world/&amp;sa=U&amp;ved=2ahUKEwiGqMDhg4qBAxVPMN4KHUP1APkQr4kDegQIAhAC&amp;usg=AOvVaw1A7AAICh6Tn5VZM4dNfH_V\"><div class=\"jB2rPd\"> <span class=\"qXLe6d x3G5ab\"> <span class=\"fYyStc\">Celebrity net worth: Virat...</span> </span> <span class=\"qXLe6d F9iS2e\"> <span class=\"fYyStc\">www.thenationalnews.com</span> </span> </div></a></td></tr></table></div></div> </div> </div></td></tr></table></div><table class=\"uZgmoc\"><tbody><td><a class=\"frGj1b\" href=\"/search?q=virat+kholi&amp;sca_esv=561979705&amp;bih=643&amp;biw=1366&amp;ie=UTF-8&amp;tbm=isch&amp;ei=wSvyZMbDOc_g-AbD6oPIDw&amp;start=20&amp;sa=N\">अर्को &gt;</a></td></tbody></table><br/><div class=\"TuS8Ad\" data-ved=\"0ahUKEwiGqMDhg4qBAxVPMN4KHUP1APkQpyoIUQ\"><style>.VYM29{font-weight:bold}</style><div align=\"center\" class=\"HddGcc\"><span class=\"VYM29\">ब्यास</span><span> - </span><span>तपाईंको IP ठेगानाबाट प्राप्त गरिएको</span><span> - </span><a href=\"/url?q=https://support.google.com/websearch%3Fp%3Dws_settings_location%26hl%3Dne&amp;sa=U&amp;ved=0ahUKEwiGqMDhg4qBAxVPMN4KHUP1APkQty4IUg&amp;usg=AOvVaw0tjUu869hMjqD9WfMVdOYq\">थप जान्नुहोस्</a></div><div align=\"center\"><a class=\"rEM8G\" href=\"/url?q=https://accounts.google.com/ServiceLogin%3Fcontinue%3Dhttps://www.google.com/search%253Fq%253Dvirat%252Bkholi%2526tbm%253Disch%2526ved%253D2ahUKEwjZn-qq_YmBAxUEz6ACHbjtCEsQ2-cCegQIABAA%2526oq%253Delon%252Bmusk%2526gs_lcp%253DCgNpbWcQAzIECCMQJzIHCAAQigUQQzIHCAAQigUQQzIHCAAQigUQQzIHCAAQigUQQzIHCAAQigUQQzIHCAAQigUQQzIHCAAQigUQQzIHCAAQigUQQzIHCAAQigUQQzoFCAAQgARQsQxY0zBgwDdoAXAAeACAAekBiAGIE5IBBDItMTGYAQCgAQGqAQtnd3Mtd2l6LWltZ8ABAQ%2526sclient%253Dimg%2526ei%253DBCXyZNmNKYSeg8UPuNuj2AQ%2526bih%253D643%2526biw%253D1366%26hl%3Dne&amp;sa=U&amp;ved=0ahUKEwiGqMDhg4qBAxVPMN4KHUP1APkQxs8CCFM&amp;usg=AOvVaw0W1TMMhwvTUpUQ3qKZ-Kh8\">साइन इन गर्नुहोस्</a></div><div><table class=\"bookcf\"><tbody class=\"InWNIe\"><tr><td><a class=\"rEM8G\" href=\"https://www.google.com/preferences?hl=ne&amp;sa=X&amp;ved=0ahUKEwiGqMDhg4qBAxVPMN4KHUP1APkQv5YECFQ\">प्राथमिकताहरू</a></td><td><a class=\"rEM8G\" href=\"https://www.google.com/intl/ne_np/policies/privacy/\">गोपनीयता</a></td><td><a class=\"rEM8G\" href=\"https://www.google.com/intl/ne_np/policies/terms/\">सर्तहरू</a></td></tr></tbody></table></div></div><div> </div></body></html>"
      ]
     },
     "execution_count": 31,
     "metadata": {},
     "output_type": "execute_result"
    }
   ],
   "source": [
    "soup"
   ]
  },
  {
   "cell_type": "code",
   "execution_count": 32,
   "id": "7e09f883-ae48-47de-aa3c-ae33a3084b11",
   "metadata": {},
   "outputs": [],
   "source": [
    "image_tags = soup.find_all(\"img\")"
   ]
  },
  {
   "cell_type": "code",
   "execution_count": 33,
   "id": "f889cc20-6c76-43cf-a351-161a40f9a8d1",
   "metadata": {},
   "outputs": [],
   "source": [
    "del image_tags[0]"
   ]
  },
  {
   "cell_type": "code",
   "execution_count": 34,
   "id": "1d2459a8-b91e-47e1-b663-c7197c743130",
   "metadata": {},
   "outputs": [
    {
     "data": {
      "text/plain": [
       "[<img alt=\"\" class=\"yWs4tf\" src=\"https://encrypted-tbn0.gstatic.com/images?q=tbn:ANd9GcSApOD8cC7Jh33c0VqbcFkcmx0og9wr1DYsD50a8Tp3p-0I33M_SuuLXA0Kizk&amp;s\"/>,\n",
       " <img alt=\"\" class=\"yWs4tf\" src=\"https://encrypted-tbn0.gstatic.com/images?q=tbn:ANd9GcSK5yCaJ2Z89H3mjG2pVjY9N4R5oiPNQPgSk0yYX4Wiv3mMSccD2ttNoKKUgg&amp;s\"/>,\n",
       " <img alt=\"\" class=\"yWs4tf\" src=\"https://encrypted-tbn0.gstatic.com/images?q=tbn:ANd9GcQBsTQsS4-NFKPJ68KkKBSNLp8o7A1tJCyeiXABkPah3FfPg6osNi7aj_0jKw&amp;s\"/>,\n",
       " <img alt=\"\" class=\"yWs4tf\" src=\"https://encrypted-tbn0.gstatic.com/images?q=tbn:ANd9GcQjN3o1k7S3Qtlo6YyMkXLv6D4wZ-_tWt2keLcq-w8IlpSsMHVZCa3elriucYE&amp;s\"/>,\n",
       " <img alt=\"\" class=\"yWs4tf\" src=\"https://encrypted-tbn0.gstatic.com/images?q=tbn:ANd9GcRex6xKHaq0ZelmDv9UfgKkFGxqAX5v3u0Jw2ygIvOGDtQ5-9n8PFz9hVPyIFw&amp;s\"/>,\n",
       " <img alt=\"\" class=\"yWs4tf\" src=\"https://encrypted-tbn0.gstatic.com/images?q=tbn:ANd9GcRNYxI7NzkxReEfzTANecdflgCygz-vaygIJgdlCAr2LjdYWljenNcYEEmPNQ&amp;s\"/>,\n",
       " <img alt=\"\" class=\"yWs4tf\" src=\"https://encrypted-tbn0.gstatic.com/images?q=tbn:ANd9GcRaMPiybVYLUOdjyoaiHLwFmuSokkPjC6Tnv1XfvIR_f5zsCWL1eecIjRHx_CQ&amp;s\"/>,\n",
       " <img alt=\"\" class=\"yWs4tf\" src=\"https://encrypted-tbn0.gstatic.com/images?q=tbn:ANd9GcTiuZO7YWD1k_bWVXN6Ua7vOW3oaHtZZLPTurTqS5ORjtX_pNeYRv0obzlrSos&amp;s\"/>,\n",
       " <img alt=\"\" class=\"yWs4tf\" src=\"https://encrypted-tbn0.gstatic.com/images?q=tbn:ANd9GcRL4HysfWjLNVEAQR_fF0HgszRpe8ftZxxrjisPDXdk0YQPK5W7H-bK6KySiw&amp;s\"/>,\n",
       " <img alt=\"\" class=\"yWs4tf\" src=\"https://encrypted-tbn0.gstatic.com/images?q=tbn:ANd9GcTjRYXqKpwxHkFa9Vz7wH-dkSRYDx0WPwGY5PpsmMSy5DETP_ts5F9K5Hf9qw&amp;s\"/>,\n",
       " <img alt=\"\" class=\"yWs4tf\" src=\"https://encrypted-tbn0.gstatic.com/images?q=tbn:ANd9GcSjO_7vM3PmFwwRgeJizk48XJukSQ8aTMf3P4gVSxksMiFLK8NJMZmp07Vl9vI&amp;s\"/>,\n",
       " <img alt=\"\" class=\"yWs4tf\" src=\"https://encrypted-tbn0.gstatic.com/images?q=tbn:ANd9GcRLqGxMbCeVkZIDV3mQfmlpSxuBcW4YTlZBp78_utfaZ7ACU-1GI0fyT3cQVA&amp;s\"/>,\n",
       " <img alt=\"\" class=\"yWs4tf\" src=\"https://encrypted-tbn0.gstatic.com/images?q=tbn:ANd9GcTi0LrG7zHoi3YApTasWokDw0OmQaE7GS-ewE91U_XkPUWY7QhnvWfyv7Y3a54&amp;s\"/>,\n",
       " <img alt=\"\" class=\"yWs4tf\" src=\"https://encrypted-tbn0.gstatic.com/images?q=tbn:ANd9GcSYb2hCfNGHcxzN5b9S3ssbiROUoNyLW_WYSLKPOiUjeTmd23VX1a3T3e7Vlfk&amp;s\"/>,\n",
       " <img alt=\"\" class=\"yWs4tf\" src=\"https://encrypted-tbn0.gstatic.com/images?q=tbn:ANd9GcSp3kQOyVVmAnA2QMEE6FqFu6ulP9AJGt_bdQVPzJ7xb8LLDv5yZKFvw0Y-30Y&amp;s\"/>,\n",
       " <img alt=\"\" class=\"yWs4tf\" src=\"https://encrypted-tbn0.gstatic.com/images?q=tbn:ANd9GcQXhRozPeN_ofFzgMvQcHZvcplv3EpOrLtmrSnBG88kwoJo8RFn0Ev3aLykTYA&amp;s\"/>,\n",
       " <img alt=\"\" class=\"yWs4tf\" src=\"https://encrypted-tbn0.gstatic.com/images?q=tbn:ANd9GcT1wPMwjom0BIO31H3orhKUkYsbT5oN4zOcNxb7iJU6UZEW74DL2MK14EkYsUc&amp;s\"/>,\n",
       " <img alt=\"\" class=\"yWs4tf\" src=\"https://encrypted-tbn0.gstatic.com/images?q=tbn:ANd9GcRaX8v2cwUTqQAetSm_Jgmk4j7GkjFCKe3HuoL7nLgAwaq4mVUTAVWDUgDkGQ&amp;s\"/>,\n",
       " <img alt=\"\" class=\"yWs4tf\" src=\"https://encrypted-tbn0.gstatic.com/images?q=tbn:ANd9GcTk7RzfiqXC0DnZwTgmlOX9D0n5iK_Lm-Rj8rY7KsEeA8sbe1Wgh7C2twUSdg&amp;s\"/>,\n",
       " <img alt=\"\" class=\"yWs4tf\" src=\"https://encrypted-tbn0.gstatic.com/images?q=tbn:ANd9GcQvY5jyNK-dyeGdEi7uHWSkRYUz8KLThlk6vzdsm3aPiLp-wbDU9SPoOQ0ZUII&amp;s\"/>]"
      ]
     },
     "execution_count": 34,
     "metadata": {},
     "output_type": "execute_result"
    }
   ],
   "source": [
    "image_tags"
   ]
  },
  {
   "cell_type": "code",
   "execution_count": 35,
   "id": "e46a62af-4d7f-4614-8f4d-60116d2bc093",
   "metadata": {},
   "outputs": [
    {
     "data": {
      "text/plain": [
       "20"
      ]
     },
     "execution_count": 35,
     "metadata": {},
     "output_type": "execute_result"
    }
   ],
   "source": [
    "len(image_tags)"
   ]
  },
  {
   "cell_type": "code",
   "execution_count": 36,
   "id": "b5bcdb58-9307-4094-8230-515caeacc6f5",
   "metadata": {},
   "outputs": [
    {
     "name": "stdout",
     "output_type": "stream",
     "text": [
      "https://encrypted-tbn0.gstatic.com/images?q=tbn:ANd9GcSApOD8cC7Jh33c0VqbcFkcmx0og9wr1DYsD50a8Tp3p-0I33M_SuuLXA0Kizk&s\n",
      "https://encrypted-tbn0.gstatic.com/images?q=tbn:ANd9GcSK5yCaJ2Z89H3mjG2pVjY9N4R5oiPNQPgSk0yYX4Wiv3mMSccD2ttNoKKUgg&s\n",
      "https://encrypted-tbn0.gstatic.com/images?q=tbn:ANd9GcQBsTQsS4-NFKPJ68KkKBSNLp8o7A1tJCyeiXABkPah3FfPg6osNi7aj_0jKw&s\n",
      "https://encrypted-tbn0.gstatic.com/images?q=tbn:ANd9GcQjN3o1k7S3Qtlo6YyMkXLv6D4wZ-_tWt2keLcq-w8IlpSsMHVZCa3elriucYE&s\n",
      "https://encrypted-tbn0.gstatic.com/images?q=tbn:ANd9GcRex6xKHaq0ZelmDv9UfgKkFGxqAX5v3u0Jw2ygIvOGDtQ5-9n8PFz9hVPyIFw&s\n",
      "https://encrypted-tbn0.gstatic.com/images?q=tbn:ANd9GcRNYxI7NzkxReEfzTANecdflgCygz-vaygIJgdlCAr2LjdYWljenNcYEEmPNQ&s\n",
      "https://encrypted-tbn0.gstatic.com/images?q=tbn:ANd9GcRaMPiybVYLUOdjyoaiHLwFmuSokkPjC6Tnv1XfvIR_f5zsCWL1eecIjRHx_CQ&s\n",
      "https://encrypted-tbn0.gstatic.com/images?q=tbn:ANd9GcTiuZO7YWD1k_bWVXN6Ua7vOW3oaHtZZLPTurTqS5ORjtX_pNeYRv0obzlrSos&s\n",
      "https://encrypted-tbn0.gstatic.com/images?q=tbn:ANd9GcRL4HysfWjLNVEAQR_fF0HgszRpe8ftZxxrjisPDXdk0YQPK5W7H-bK6KySiw&s\n",
      "https://encrypted-tbn0.gstatic.com/images?q=tbn:ANd9GcTjRYXqKpwxHkFa9Vz7wH-dkSRYDx0WPwGY5PpsmMSy5DETP_ts5F9K5Hf9qw&s\n",
      "https://encrypted-tbn0.gstatic.com/images?q=tbn:ANd9GcSjO_7vM3PmFwwRgeJizk48XJukSQ8aTMf3P4gVSxksMiFLK8NJMZmp07Vl9vI&s\n",
      "https://encrypted-tbn0.gstatic.com/images?q=tbn:ANd9GcRLqGxMbCeVkZIDV3mQfmlpSxuBcW4YTlZBp78_utfaZ7ACU-1GI0fyT3cQVA&s\n",
      "https://encrypted-tbn0.gstatic.com/images?q=tbn:ANd9GcTi0LrG7zHoi3YApTasWokDw0OmQaE7GS-ewE91U_XkPUWY7QhnvWfyv7Y3a54&s\n",
      "https://encrypted-tbn0.gstatic.com/images?q=tbn:ANd9GcSYb2hCfNGHcxzN5b9S3ssbiROUoNyLW_WYSLKPOiUjeTmd23VX1a3T3e7Vlfk&s\n",
      "https://encrypted-tbn0.gstatic.com/images?q=tbn:ANd9GcSp3kQOyVVmAnA2QMEE6FqFu6ulP9AJGt_bdQVPzJ7xb8LLDv5yZKFvw0Y-30Y&s\n",
      "https://encrypted-tbn0.gstatic.com/images?q=tbn:ANd9GcQXhRozPeN_ofFzgMvQcHZvcplv3EpOrLtmrSnBG88kwoJo8RFn0Ev3aLykTYA&s\n",
      "https://encrypted-tbn0.gstatic.com/images?q=tbn:ANd9GcT1wPMwjom0BIO31H3orhKUkYsbT5oN4zOcNxb7iJU6UZEW74DL2MK14EkYsUc&s\n",
      "https://encrypted-tbn0.gstatic.com/images?q=tbn:ANd9GcRaX8v2cwUTqQAetSm_Jgmk4j7GkjFCKe3HuoL7nLgAwaq4mVUTAVWDUgDkGQ&s\n",
      "https://encrypted-tbn0.gstatic.com/images?q=tbn:ANd9GcTk7RzfiqXC0DnZwTgmlOX9D0n5iK_Lm-Rj8rY7KsEeA8sbe1Wgh7C2twUSdg&s\n",
      "https://encrypted-tbn0.gstatic.com/images?q=tbn:ANd9GcQvY5jyNK-dyeGdEi7uHWSkRYUz8KLThlk6vzdsm3aPiLp-wbDU9SPoOQ0ZUII&s\n"
     ]
    }
   ],
   "source": [
    "for i in image_tags:\n",
    "    print(i['src'])"
   ]
  },
  {
   "cell_type": "code",
   "execution_count": 37,
   "id": "0a1829eb-3628-4314-8ac2-a72bc8e64d24",
   "metadata": {},
   "outputs": [
    {
     "data": {
      "text/plain": [
       "b'\\xff\\xd8\\xff\\xe0\\x00\\x10JFIF\\x00\\x01\\x01\\x00\\x00\\x01\\x00\\x01\\x00\\x00\\xff\\xdb\\x00\\x84\\x00\\t\\x06\\x07\\x08\\x07\\x06\\t\\x08\\x07\\x08\\n\\n\\t\\x0b\\r\\x16\\x0f\\r\\x0c\\x0c\\r\\x1b\\x14\\x15\\x10\\x16 \\x1d\"\" \\x1d\\x1f\\x1f$(4,$&1\\'\\x1f\\x1f-=-157:::#+?D?8C49:7\\x01\\n\\n\\n\\r\\x0c\\r\\x1a\\x0f\\x0f\\x1a7%\\x1f%77777777777777777777777777777777777777777777777777\\xff\\xc0\\x00\\x11\\x08\\x00u\\x00\\xa2\\x03\\x01\"\\x00\\x02\\x11\\x01\\x03\\x11\\x01\\xff\\xc4\\x00\\x1c\\x00\\x00\\x01\\x05\\x01\\x01\\x01\\x00\\x00\\x00\\x00\\x00\\x00\\x00\\x00\\x00\\x00\\x00\\x01\\x02\\x03\\x04\\x05\\x06\\x07\\x08\\xff\\xc4\\x00?\\x10\\x00\\x01\\x03\\x02\\x04\\x01\\x06\\x0c\\x04\\x05\\x05\\x01\\x00\\x00\\x00\\x00\\x01\\x00\\x02\\x03\\x04\\x11\\x05\\x12!1A\\x06\\x13Qaq\\xb1\\x07\\x14\"#23Bbs\\x81\\x91\\xa14Rc\\xc1$DSr\\xd1%5\\x92\\xd2\\xf0\\x15\\xff\\xc4\\x00\\x19\\x01\\x00\\x03\\x01\\x01\\x01\\x00\\x00\\x00\\x00\\x00\\x00\\x00\\x00\\x00\\x00\\x00\\x00\\x01\\x03\\x02\\x04\\x05\\xff\\xc4\\x00&\\x11\\x00\\x02\\x02\\x01\\x03\\x04\\x02\\x02\\x03\\x00\\x00\\x00\\x00\\x00\\x00\\x00\\x00\\x01\\x02\\x11\\x03!2A\\x12#1\\x81Bq3a\"Q\\xc1\\xff\\xda\\x00\\x0c\\x03\\x01\\x00\\x02\\x11\\x03\\x11\\x00?\\x00\\xf0\\xf6\\xb4\\xb9\\xc1\\xad\\x17\\'@\\x11#\\x1d\\x1b\\xcb\\x1e\\xd2\\xd74\\xd8\\x83\\xc1:\\x9c\\xe5\\x9e3\\xd0\\xe1\\xde\\xadcZb\\xb5?\\x10\\xa5z\\xd1\\xaa\\xfe6R\\t\\xf2E$lc\\x9e\\xd2\\x03\\xc5\\xdazBhZ8\\x97\\xe00\\xf3\\xfag\\xbd&\\xe9\\xa4\\n6\\x9b3T\\x91\\xc3$\\x91\\xbd\\xec\\x17k\\x05\\xdd\\xd4\\xa3ZXq\\x1e%\\\\-\\xaeA\\xde\\x89:V\\x10V\\xe8\\xce\\xb5\\xd3\\xe0\\x85\\xf3\\xc9\\x921w$j\\xb7\\x87f\\x8eS6G9\\xac\\xd0\\x81\\xd7\\xb2rn\\x82)6Ss\\x0b\\\\\\xe6\\xbbB\\r\\x8aK.\\x82\\x0c?W\\xccDOs\\xee\\xe0\\xe3\\xad\\xba4Y\\xb5\\xed\\x95\\xd2y\\xe8\\xd8\\xd7\\x00}\\x06\\x81\\xf5E\\x83\\x89B\\xc9\\xd9J\\x9cB\\xdem\\xaenl\\xc7\\xa7d\\xc7\\xf4&*\\x1a\"q\\x8f8\\xb5\\xafd\\xcc\\xa5Y\\x81\\x86H\\xdf\\xd0\\xc6\\x97\\x15\\x08\\xdc\\xa5c\\xa4X\\xa0\\xc3\\xa4\\xac\\xac\\x8a\\x99\\x8ek].\\xc4\\xec\\x11\\xe2\\x12\\x19g\\x8f3o\\x0b\\x88wZ\\xd1\\xe4\\xd3\\xbf\\xd7\\xa8\\x8fj\\x89\\xef\\xb5}\\x7f\\x0b\\xc8\\xee\\xf2\\xa2\\xf2K\\xad\\xc7\\xf4UB=)\\xfe\\xcc\\xb1\\x192\\x06\\\\^\\xf6W\\xf1\\\\%\\xf8uLP\\xbeV\\xbc\\xc9\\x18\\x90\\x10:U&\\xfe$\\x7fx]\\x0f+]z\\xfa\\'Z\\xdf\\xc359d\\x92\\xc9\\x18\\xaelQ\\x82po\\xe8\\xe6\\xa4ac\\xacM\\xd3\\x14\\xd5\\x07\\xcbQ*\\xa2LD!\\t\\x88sM\\x9c\\x0fAW1\\x9dq:\\x83\\xef\\xfe\\xca\\x92\\xb3\\x89\\x1b\\xd6\\xcazm\\xdc\\x93\\xdck\\xe2W\\n\\xfdq\\xcd\\x87\\xd0\\xf54\\x8f\\xba\\xcfWj\\x9d|:\\x93\\xab2\\xcc\\xbc\\xa1\\xc7\\xc3)-\\x1c7\\xf0\\xb5\\xdf\\rg\\xad\\x0c3\\xd4V\\x0f\\xd2FM\\xa3\\xc7\\xb8\\xa3\\x13\\x83d\\x04\\xf0+s\\x08\\x13bU\\x8d\\xc3\\xb0\\xf0\\xe3QTC\\x19m8\\xde\\xe7\\xa8\\x0b\\xdf\\xaa\\xeb\\r\\xba\\xafK\\xf0\\x1f\\x87E&3U\\x88N\\xf6\\xb4\\xc5\\x11\\x8a\\x0c\\xdc^uu\\xbb\\x1b\\xdf\\xda\\x9c\\x97#\\xc7wG_A\\xc8\\x1c#\\x0b\\xc1\\xe3\\x8a\\xa2\\x9cU\\xd4\\x91w\\xcc\\xfd\\xc9\\xe3n\\x80\\xb9<o\\x93X[\\\\\\xec\\x82H\\x00\\xe0\\xd7h\\xbdS\\x1f\\xc4i\\xe8\\xe9\\xdb\\xe3\\x15\\x10\\xb4\\x91\\xa3K\\xc0\\'\\xb1p\\xf8\\xbc\\x94\\xb5L21\\xecx\\xb7\\x02\\xb9\\xaeI\\xdd\\x9e\\x82\\x8c:j\\x8f;\\x97\\x0bm#\\x9b<\\xber\\x9c8\\xf9.\\x1a\\x9f\\xf2\\xb9\\xfa\\xa9\\x03\\xe5q\\r\\r\\x1c\\x07B\\xdd\\xe55T\\xaep\\x84\\xdc\\xc4\\x0f\\x92A\\\\\\xeb\\x9d\\xd2\\x17L<jy\\xd94z\\x16h\\xa5\\x11\\xc5R\\r\\x8ex\\x88\\n\\xb3x\\xa1\\x8e-\\xbe\\xbc\\x08H\\xde)\\xd6\\xa6oJ5y6\\xebc\\x94w\\xfc\\xca*\\x83lB\\xb7\\xe2\\xbb\\xbd/\\'\\xdd\\x97\\x18\\xa5>\\xfa\\x8e\\xac\\xdb\\x10\\xab\\xf8\\xae\\xefPk\\xb8\\xfe\\xbf\\xd2\\xc9\\xf6\\xd7\\xd9U\\xbe\\xbc\\x1fyn\\xf2\\xad\\xc5\\xd5TF\\xdf\\xcb\\x05\\x82\\xd3\\xe7\\x81\\xf7\\x82\\xda\\xe5)\\xbc\\xd4F\\xe4\\xf9\\x8b\"k\\xb9\\x1fa\\x07\\xdb\\x97\\xa3\\x12s\\xe5\\xa8\\xd3\\xe5\\xd4\\xa8\\xd5\\xd1\\x06*D!1\\n\\xa7\\xac\\xd6bz@\\xeeP)j\\r\\xde\\x0f\\xba\\x12\\xe4|\\x11+S\\x9f\\xe0)\\xfa\\x8b\\x95n\\n\\xcc\\x9a\\xd0\\xc5\\xd4\\xe2\\x93\\xe0\\xd2\\xf0\\xca\\xdc\\x16\\x8e\\x19\\xea\\xaa\\xba\\xe2Y\\xca\\xf6\\x1at\\xa8\\x1f\\xa4R\\xc9\\xb4p\\xdcSb\\xf5\\xcf\\x04l\\x9a\\x87\\x93x\\x86\\'QP\\xe8\\xe8|c\\xc9\\x8c\\x01\\xe5\\x16\\x81wu\\xf0\\x1f#\\xf2\\xf2F\\xee\\xbd\\x87\\x91\\x14\\x8c\\xc6\\xfc\\x1a\\x1c>:\\xc6\\xd2\\x91Q#^\\xe74\\x10N`\\xebn4\\xb1\\x1cQ7\\xa1L\\n\\xe6j\\xe0R\\xd5cp\\xd5\\xd6\\xb9\\xed\\x11\\xcb#\\xf2\\xb7\\x9bk\\xae\\xdby\"\\xe7mI+\\x12\\xa7\\x084q\\xcdUT\\xf8\\xd8\\xe0m\\xe6\\xf6w\\xc9t|\\x9c\\x82<\\x1a\\x86zgL\\xc7\\x0b\\xdc5\\xa2\\xcdi\\xb0\\x06\\xddW\\xb9\\xf9\\xaeC\\x1f\\xac\\x96\\xad\\xb5Q\\xb5\\xa4\\x06\\xdc9\\xce\\xe1\\xd8\\xa1|\\x1d\\xd2\\x8a\\xab8\\xbcrfJK\\x9a\\xeb\\xdd\\xdb\\x05\\x9d\\xe2Y\\x9a\\xe2\\x1cK\\xc5\\xf2\\xb47GX\\\\\\xeb\\xd8\\x865\\xcf\\x7f4.\\xef+n\\xc5v\\xb2\\xa4QP\\xd3\\xd2B2\\xce\\xc7=\\xf2I\\xa16{@\\x00t\\x0c\\xb7\\xd3\\xa5\\xc7\\xa1]\\x7fG\\x9f*v\\xd9\\x8awJ4A\\xecJ\\x00;\\x95B%\\xcc\\x1c\\xdb\\x12\\xa5#\\xf3\\x84V\\xe9\\x88U|C\\xde\\x9b\\x85\\x9bb4\\xe7\\xdf\\tk\\xbf\\xdc*~!Q\\x7f\\x93\\xd1k\\xed\\xfb*\\x8fZ\\xde\\xd5\\xb1\\xca\\x03sE\\xf0\\x7fu\\x90=c{V\\xae;\\xb5!?\\xd3\\xfd\\xd2\\x97\\xe4\\x8f\\xb1\\xc7d\\x8c\\x89\\x13\\x13\\xde\\xa3VDX!\\x08@\\x85Ny\\xbd\\xbb\\x13P\\x80\\x0e\\n\\xd1\\xd6\\x85\\x9f\\xdeUn\\n\\xcf\\xf2M\\x1e\\xf9Y\\x91\\xa8\\x95\\xce\\xea\\xe6\\x1b\\xe9\\xcc?L\\xaaguk\\x0f\\xbey,m\\xe4\\x14Ki\\xa8\\xf9+\\xb7p\\xbd_\\xc1\\x14\\xb0W`\\xb8\\x86\\x1b3X\\x1fM?<\\xd79\\xa1\\xd7\\x12\\x00-c\\xd7\\x1f\\xddy@\\xddi\\xe0U\\xf8\\x86\\x19[\\xcfa\\xf3:\\'<ep\\x1b<t\\x11\\xc4!\\xabC\\x84\\xfa$\\x99\\xeb\\xb1\\xd3\\xd1\\xe1\\x92\\xcfS1i\\xb0\\xd1\\xa4\\xd8;\\xaa\\xc3E\\xcb\\xe2\\xd5\\xa1\\xfc\\xf3sft\\xa71\\xca6\\xea\\xee[m\\xe4\\xf5N7\\x87EW\\x0c\\xe1\\xd3:\\x9a\\n\\x87\\xc2\\xe7\\x1b\\xb4H\\xc0\\xe0[\\xd2/\\x98k\\xf9V5N\\r]M!a\\x8d\\xa4\\xf4\\xdf^\\xe5\\x15\\ru;\\x1eN\\xa5\\xa1\\xc4KI4\\x0et\\xa4\\x96\\xb8\\x92@\\x06\\xc4,\\xc7\\x82\\t\\xfb\\xafC8,\\xa4\\xf9\\xd6\\xb6\\xce\\xbe\\xc6\\xeb\\x98\\xe5\\x16\\x160\\xb2\\xc6\\xb9\\xcd2L\\xcep7\\x8bY{6\\xfd\\xba\\x9e\\xcbt\\xab\\xc4\\xe4\\xc9\\x1aV`\\x93\\xa5\\x88H\\x8b%\\xd9h\\x89%4\\xdc\\xcdDr[\\xd0p*J\\x89[5T\\xb27g\\xb8\\x90\\xaa\\xa7\\xc6\\xb2\\xd2\\xbb4\\x9e\\x94/\\xb6;V\\x9e4|\\x8a]}\\x82\\xb3\\x07\\xa6\\x16\\x8e.o\\x1d)\\xf7J\\x9c\\xb7D\\xa4v\\xb35\\xc5F\\x9e\\xe4\\xc5RL\\x10\\x84 B\\x84\\x14%L\\x04V\\x07\\xe1m\\xef\\xaa\\xeav\\xfe\\x1c\\xff\\x00r\\xcc\\x8dD\\x8e\\xc4\\xec.\\xac\\xd31\\xec%\\xc0n-d\\xeax\\xb5\\x8f\\xde\\xba\\xd2d-h\\xbf\\x15\\xa5\\x1bB\\xb2\\x8cT\\x84[\\xc9\\xfa\\xab\\xf4q5\\x97w\\xb5\\xdc\\x9c\\xd0\\x089\\x87\\x14\\xe8[\\x90<\\xf0\\xb5\\xd6\\xd2\\x11\\xeb\\xbc\\x9f\\x15?\\xfc\\x9c\\x02\\xa3\\r{\\rL8\\\\l\\x9e\\x99\\xe6\\xde1\\x19\\xb9ha\\xfc\\xcd\\x1a\\xed\\xedu\\xa9\\xe0\\x92\\x9b\\x15\\xad\\x022\\x04\\xc7\\xd8v\\x85ix=\\xa7\\x8a~J\\xe1\\xd5\\xae\\x8f4\\xf1F\\xd66\\xe3P\\xc640\\x01\\xd7a~\\xd5k\\x1f\\xc2\\xa90\\xcf\\x16\\xc5\\xf0\\xf8\\xbc\\xe3\\xea\\x1a&m\\xc9\\x0e\\xcf\\xc6\\xdc\\r\\xcf\\xddK.?\\x92:1d\\xf8\\xc8\\xe7\\xaah\\xa2\\x8d\\xf2\\xc9Q\\x19<\\xd8ql \\x80e z#\\xa0\\x13\\xa5\\xd7\\x8ar\\x82\\xb2z\\xfa\\xa9k*\\x8d\\xe6\\x9d\\xe5\\xee\\x16\\xb0h\\xe0\\x00\\xe0\\x06\\xc0t\\x05\\xee\\xbc\\xae\\x89\\xf4\\x18\\xac5\\x0f\\xd6Y\"\\r\\x89\\x9c\\x1a5\\xd4\\xf5\\xdc\\x95\\xe3\\\\\\xb6\\x8a\\x08yI[MNC\\xdb\\x14\\x99\\x1e\\xe6\\xed\\xce\\x0fN\\xddY\\xb3*F)D\\x96I\\xb9H\\xe7!\\xf5\\x82\\xfcT\\xcf\\x84\\x11p\\x9ab, \\x93\\xb1\\xe0\\xa4\\xccl\\xe3\\xc0\\x14\\x18)\\xbd\\xa5\\xa6\\xc9cV\\x1c\\x03\\x85\\xd4.\\x01\\xa2\\xfcIYhho\\xb4\\xafb>\\xaa\\x0e\\xc2\\xb3\\xee\\xa4t\\xce{C^v\\xd9a\\xc7T\\xcd\\xa9h\\xd0\\xc7&\\'\\x94\\x8dm\\xd6\\x8c\\rB\\x93\"\\x10\\x141\\t\\x12\\xa0@\\xa6g\\xab\\xb7\\xbc\\xa2\\xb6\\x8aza{\\x0e\\xb4y\\x1a4\\x9a\\xd0\\xd9\\xa9\\x80\\xe8=\\xca\\xe8\\xd9V#\\xce\\xd3\\xf5^\\xff\\x00\\xf1V@\\xd1PC\\x0e\\x80\\xf6\\xa9\\xe8\\x9a\\xc9\\x1d$ovW\\xba7sw\\xb5\\x8b\\xb7\\x00\\xf5\\x1d~vP\\x91pBsE\\xa1\\x91\\xc3p\\xd3d\\x01\\xee>\\n*\\xb9\\xdeH\\xd3\\xc4\\x0b\\xc9\\xa6{\\xa2/s\\x0bC\\xacz\\xfbV\\xd6!YT\\xf9\\xe5\\xa6\\xa2kD\\x103<\\xb3\\x16\\x87dp\\xf2\\x80h<o\\xf4\\\\\\xef\\x82V\\xdb\\x920\\x96:\\xe2I\\t\\xccM\\xeel3}\\xee>K\\xb0||\\xd42\\x98\\x86\\xe4|\\xc9p\\'\\xbc\\xad\\xa5\\xa0\\x99\\x83\\x89\\xd2\\xd1a\\xb4\\xb58\\xc5s\\x9fU-,N\\x93\\x9c\\x9d\\xf9\\xaeZ.,6\\xdf\\xa9|\\xe2\\xf9d\\xaa\\xaa\\x96y]\\x9aI\\x1e^\\xe3\\xd2\\xe2nO\\xd4\\xaff\\xf0\\xd5\\x8b6\\x8b\\x01\\x83\\x0b\\x84\\x9er\\xbaK\\xbe\\xdf\\xd3a\\x07\\xee\\xeb}\\n\\xf1\\x98\\x80kn\\xb3 D\\x13\\xb8\\xe6\\x03\\x89;$\\x94\\xe5cZ8\\x04\\xd2s\\xcc_\\xc3\\x82d\\xa6\\xeb#\\x06\\x92FQ\\xb9\\xd0&L\\xeb\\xbe\\xc3f\\xe8\\x12\\xc2r\\xbf7\\xe5\\x04\\x8e\\xd5\\x19I\\x80\\x88B\\x12\\x00;%\\x06\\xc1!\\xd9+R\\x00\\xccP\\x92\\xc8@\\xc4J\\x91*\\x04/\\x05o\\x0fm\\xe6\\x1d\\x17\\xba\\xa6\\xb4p\\xb6\\xea^v\\t\\xa04\\x00\\xbc\\xcc\\xb9\\xd4\\\\\\x8f\\xa5\\x95\\x967EJ9G\\x8d\\x86\\x9fi\\xb6\\x17\\xff\\x00\\xddJ\\xfb-m\\xd6\\xc0am\\x8ay\\x03#\\xc7\\x02\\xd4\\x93\\x8c\\xac\\x0e\\xbaJc\\x9a7\\x03\\xbd\\xbe\\xc8\\x03\\xd8<\\x0cI\\xcerN8\\xef\\xe8\\xc9k|\\x87\\xf8]\\xa4/\\x91\\xd05\\x937-\\xea\\x1e\\x06\\xbe\\x93E\\xc8\\xfb\\xdbN\\xa5\\xe6\\x1e\\x03*\\x8f9=&\\xbb\\x1f\\xa3o\\xff\\x00e\\xdf\\xf2\\xcb\\x13\\x18.\\x13S\\\\\\xd2\\x01\\xa5\\xa5\\x91\\xe2\\xfbs\\x8e-l\\x7f{\\xad\\xde\\x82\\xe4\\xf0\\xcf\\t\\xf8\\xc0\\xc69cTcq0R\\x1f\\x15\\x8c_O \\x90\\xe3\\xf3vo\\xb2\\xe5\\xa56nQ\\xdaP\\\\\\xe78\\xbd\\xe4\\xbd\\xce;\\x9d\\xc9\\xe9I%\\x9a\\xcc\\xbb\\xdfr\\xa62\\xb96\\x1a(\\xce\\xc5))\\x0e\\xd7@\\x11\\xedt\\x89JE\\x90\\x04!\"\\x00R\\x80\\x91\\t\\x00\\xf4&!\\x03\\xb1P\\x84& Z\\xd8sG4A\\xda\\xd7H\\x84\\xd0\\x15\\x99;\\x9d[\\x1b\\xce\\xf9\\xc0]\\x04{\\x1e\\xc4\\xa8Z\\x01\\xb5^\\x85\\xba\\x94t\\xe6\\xceh\\xe0tB\\x13\\x03\\xb9\\xf0\\x1e\\xe2\\xdeUb,\\x1b\\x08\\x9cG\\xd4-\\x8f\\x0e\\x98\\x8c\\xd1RS\\xd02\\xc2)\\x9e\\x0b\\xcfNQp>\\xaf\\xfb!\\t\\xf0.O\\x19\\xa6\\x19\\xa7u\\xfd\\x81a\\xf3QT\\xbb\\xcbp\\x1a\\x00\\x84,\\x0c\\xacJiq(B@5\\x08B@\\x08B\\x10\\x02!\\x08H\\x01\\x08B\\x00\\xff\\xd9'"
      ]
     },
     "execution_count": 37,
     "metadata": {},
     "output_type": "execute_result"
    }
   ],
   "source": [
    "requests.get(f\"https://encrypted-tbn0.gstatic.com/images?q=tbn:ANd9GcQY_R5NSNoZkSlMo3hf86COGJ4fCv0s6Nx4k8uCGkWc6YGOn_m4-rIOQ3GhOhg&s\").content"
   ]
  },
  {
   "cell_type": "code",
   "execution_count": 25,
   "id": "3645c0c9-8a9d-4233-8497-5050d08b13e4",
   "metadata": {},
   "outputs": [
    {
     "name": "stdout",
     "output_type": "stream",
     "text": [
      "0\n",
      "1\n",
      "2\n",
      "3\n",
      "4\n",
      "5\n",
      "6\n",
      "7\n",
      "8\n",
      "9\n",
      "10\n",
      "11\n",
      "12\n",
      "13\n",
      "14\n",
      "15\n",
      "16\n",
      "17\n",
      "18\n",
      "19\n"
     ]
    }
   ],
   "source": [
    "for i in image_tags:\n",
    "    print(image_tags.index(i))"
   ]
  },
  {
   "cell_type": "code",
   "execution_count": null,
   "id": "2552dfd4-091f-4c64-8719-909b61d20c74",
   "metadata": {},
   "outputs": [],
   "source": [
    "# save_dir=\"images/\"\n",
    "# if not os.path.exists(save_dir):\n",
    "#     os.makedirs(save_dir)"
   ]
  },
  {
   "cell_type": "code",
   "execution_count": 40,
   "id": "562a7265-43cf-4b82-a760-3c680fd98541",
   "metadata": {},
   "outputs": [
    {
     "data": {
      "text/plain": [
       "'images/virat kholi_19.jpg'"
      ]
     },
     "execution_count": 40,
     "metadata": {},
     "output_type": "execute_result"
    }
   ],
   "source": [
    "os.path.join(save_dir,f\"{query}_{image_tags.index(i)}.jpg\")"
   ]
  },
  {
   "cell_type": "code",
   "execution_count": 38,
   "id": "2998fdf3-8089-4dd9-86d3-df83a2b3d8ca",
   "metadata": {},
   "outputs": [],
   "source": [
    "for i in image_tags:\n",
    "    image_url = i['src']\n",
    "    image_data = requests.get(image_url).content\n",
    "    with open(os.path.join(save_dir,f\"{query}_{image_tags.index(i)}.jpg\"), \"wb\") as f:\n",
    "        f.write(image_data)"
   ]
  },
  {
   "cell_type": "code",
   "execution_count": null,
   "id": "c907e6fa-3953-4f07-80b7-e02190121595",
   "metadata": {},
   "outputs": [],
   "source": []
  }
 ],
 "metadata": {
  "kernelspec": {
   "display_name": "Python 3 (ipykernel)",
   "language": "python",
   "name": "python3"
  },
  "language_info": {
   "codemirror_mode": {
    "name": "ipython",
    "version": 3
   },
   "file_extension": ".py",
   "mimetype": "text/x-python",
   "name": "python",
   "nbconvert_exporter": "python",
   "pygments_lexer": "ipython3",
   "version": "3.8.17"
  }
 },
 "nbformat": 4,
 "nbformat_minor": 5
}
